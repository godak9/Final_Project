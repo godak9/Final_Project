{
 "cells": [
  {
   "cell_type": "code",
   "execution_count": 29,
   "id": "4ebf3e34",
   "metadata": {},
   "outputs": [
    {
     "name": "stdout",
     "output_type": "stream",
     "text": [
      "Successful Connection to database\n"
     ]
    }
   ],
   "source": [
    "# Start Database or reconnect to it\n",
    "import sqlite3\n",
    "\n",
    "try:\n",
    "    conn = sqlite3.connect('shark_tables.db')\n",
    "    cursor = conn.cursor()\n",
    "    print(\"Successful Connection to database\")\n",
    "except:\n",
    "    print(\"Failed to Connect\")"
   ]
  },
  {
   "cell_type": "code",
   "execution_count": 30,
   "id": "0149a1f3",
   "metadata": {},
   "outputs": [
    {
     "name": "stdout",
     "output_type": "stream",
     "text": [
      "Successfully Read Data File\n"
     ]
    }
   ],
   "source": [
    "# Grab the csv files\n",
    "import pandas as pd\n",
    "try:\n",
    "    activity_df = pd.read_csv(\"GOdak/activity.csv\", low_memory=False)\n",
    "    date_df = pd.read_csv(\"GOdak/date.csv\", low_memory=False)\n",
    "    location_df = pd.read_csv(\"GOdak/location.csv\", low_memory=False)\n",
    "    species_df = pd.read_csv(\"GOdak/species.csv\", low_memory=False)\n",
    "    type_df = pd.read_csv(\"GOdak/type.csv\", low_memory=False)\n",
    "    victimology_df = pd.read_csv(\"GOdak/victimology.csv\", low_memory=False)\n",
    "    fatality_df = pd.read_csv(\"GOdak/fatality.csv\", low_memory=False)\n",
    "    print(\"Successfully Read Data File\")\n",
    "    \n",
    "except:\n",
    "    print(\"Failed to Read Data File\")"
   ]
  },
  {
   "cell_type": "code",
   "execution_count": 31,
   "id": "74c2bd0f",
   "metadata": {},
   "outputs": [
    {
     "name": "stdout",
     "output_type": "stream",
     "text": [
      "       Case Number                    Activity\n",
      "0       2020.02.05              Board_Activity\n",
      "1     2020.01.30.R           Swimming_Activity\n",
      "2       2020.01.17              Board_Activity\n",
      "3       2020.01.16              Board_Activity\n",
      "4       2020.01.13              Board_Activity\n",
      "...            ...                         ...\n",
      "5930       ND.0005        Free_Diving_Activity\n",
      "5931       ND.0004  Shellfish_Hunting_Activity\n",
      "5932       ND.0003           Swimming_Activity\n",
      "5933       ND.0002            Unknown_Activity\n",
      "5934       ND.0001           Swimming_Activity\n",
      "\n",
      "[5935 rows x 2 columns]\n"
     ]
    }
   ],
   "source": [
    "# Convert dataframes into database\n",
    "activity_df.to_sql('Activity',conn,if_exists='replace',index=False)\n",
    "date_df.to_sql('Date',conn,if_exists='replace',index=False)\n",
    "location_df.to_sql('Location',conn,if_exists='replace',index=False)\n",
    "species_df.to_sql('Species',conn,if_exists='replace',index=False)\n",
    "type_df.to_sql('Type',conn,if_exists='replace',index=False)\n",
    "victimology_df.to_sql('Victimology',conn,if_exists='replace',index=False)\n",
    "fatality_df.to_sql('Fatality',conn,if_exists='replace',index=False)\n",
    "conn.commit()\n",
    "r_df = pd.read_sql(\"select * from Activity\",conn)\n",
    "print(r_df)\n",
    "#conn.close()"
   ]
  },
  {
   "cell_type": "code",
   "execution_count": 34,
   "id": "25f10f0c",
   "metadata": {},
   "outputs": [
    {
     "name": "stdout",
     "output_type": "stream",
     "text": [
      "[('Activity',), ('Date',), ('Location',), ('Species',), ('Type',), ('Victimology',), ('Fatality',)]\n"
     ]
    }
   ],
   "source": [
    "# Get all tables from database\n",
    "cursor = conn.cursor()\n",
    "cursor.execute(\"SELECT name FROM sqlite_master WHERE type='table';\")\n",
    "print(cursor.fetchall())"
   ]
  },
  {
   "cell_type": "code",
   "execution_count": 26,
   "id": "e4f987b8",
   "metadata": {},
   "outputs": [
    {
     "name": "stdout",
     "output_type": "stream",
     "text": [
      "[('Activity',), ('Date',), ('Location',), ('Species',), ('Type',), ('Victimology',), ('CompleteData',)]\n"
     ]
    }
   ],
   "source": [
    "# Combine tables\n",
    "conn.execute(\"\"\"\n",
    "CREATE TABLE \n",
    "CompleteData\n",
    "AS\n",
    "SELECT\n",
    "Activity.[Case Number],\n",
    "Date.Date,\n",
    "Date.Year,\n",
    "Date.Month,\n",
    "Date.Day,\n",
    "Location.Country,\n",
    "Activity.Activity,\n",
    "Species.Species,\n",
    "Type.Type,\n",
    "Victimology.[People Involved],\n",
    "Victimology.Sex,\n",
    "Victimology.[Original Name]\n",
    "FROM\n",
    "Activity\n",
    "LEFT JOIN Location ON Location.[Case Number] = Activity.[Case Number]\n",
    "LEFT JOIN Date ON Date.[Case Number] = Activity.[Case Number]\n",
    "LEFT JOIN Species ON Species.[Case Number] = Activity.[Case Number]\n",
    "LEFT JOIN Type ON Location.[Case Number] = Activity.[Case Number]\n",
    "LEFT JOIN Victimology ON Victimology.[Case Number] = Activity.[Case Number]\n",
    "LEFT JOIN Fatality ON Fatality.[Case Number] = Activity.[Case Number]\n",
    "\"\"\")\n",
    "cursor.execute(\"SELECT name FROM sqlite_master WHERE type='table';\")\n",
    "print(cursor.fetchall())\n",
    "#r_df = pd.read_sql(\"select * from CompleteData\",conn)\n",
    "#print(r_df)"
   ]
  },
  {
   "cell_type": "code",
   "execution_count": 27,
   "id": "c0b81251",
   "metadata": {},
   "outputs": [
    {
     "name": "stdout",
     "output_type": "stream",
     "text": [
      "[(37420175,)]\n"
     ]
    }
   ],
   "source": [
    "cursor.execute(\"SELECT COUNT([Case Number]) FROM CompleteData LIMIT 5\")\n",
    "print(cursor.fetchall())\n"
   ]
  },
  {
   "cell_type": "code",
   "execution_count": 33,
   "id": "7102e405",
   "metadata": {},
   "outputs": [
    {
     "name": "stdout",
     "output_type": "stream",
     "text": [
      "[('Activity',), ('Date',), ('Location',), ('Species',), ('Type',), ('Victimology',), ('Fatality',)]\n"
     ]
    }
   ],
   "source": [
    "# Drop Test data\n",
    "conn.execute(\"\"\"\n",
    "DROP TABLE CompleteData\n",
    "\"\"\")\n",
    "cursor.execute(\"SELECT name FROM sqlite_master WHERE type='table';\")\n",
    "print(cursor.fetchall())"
   ]
  },
  {
   "cell_type": "code",
   "execution_count": 28,
   "id": "aa050f70",
   "metadata": {},
   "outputs": [],
   "source": [
    "# Close Database\n",
    "conn.commit()\n",
    "conn.close()"
   ]
  }
 ],
 "metadata": {
  "kernelspec": {
   "display_name": "Python 3 (ipykernel)",
   "language": "python",
   "name": "python3"
  },
  "language_info": {
   "codemirror_mode": {
    "name": "ipython",
    "version": 3
   },
   "file_extension": ".py",
   "mimetype": "text/x-python",
   "name": "python",
   "nbconvert_exporter": "python",
   "pygments_lexer": "ipython3",
   "version": "3.9.12"
  }
 },
 "nbformat": 4,
 "nbformat_minor": 5
}
