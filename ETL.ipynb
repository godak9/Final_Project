{
 "cells": [
  {
   "cell_type": "code",
   "execution_count": null,
   "id": "db5d05a3",
   "metadata": {},
   "outputs": [],
   "source": [
    "#We need to upload the data first \n",
    "#CSV files preferably "
   ]
  }
 ],
 "metadata": {
  "kernelspec": {
   "display_name": "mlenv",
   "language": "python",
   "name": "mlenv"
  },
  "language_info": {
   "codemirror_mode": {
    "name": "ipython",
    "version": 3
   },
   "file_extension": ".py",
   "mimetype": "text/x-python",
   "name": "python",
   "nbconvert_exporter": "python",
   "pygments_lexer": "ipython3",
   "version": "3.7.13"
  }
 },
 "nbformat": 4,
 "nbformat_minor": 5
}
