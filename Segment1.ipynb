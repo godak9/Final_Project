{
 "cells": [
  {
   "cell_type": "code",
   "execution_count": 8,
   "id": "8108301b",
   "metadata": {},
   "outputs": [],
   "source": [
    "import pandas as pd, csv, sqlite3\n",
    "\n",
    "conn = sqlite3.connect('shark_info.db')\n",
    "c = conn.cursor()\n",
    "df = pd.read_csv(\"Mock_data.csv\", low_memory=False)\n",
    "df.to_sql(name='mockup_data', con=conn, if_exists='append', index=False)\n",
    "\n",
    "conn.commit()"
   ]
  }
 ],
 "metadata": {
  "kernelspec": {
   "display_name": "Python 3 (ipykernel)",
   "language": "python",
   "name": "python3"
  },
  "language_info": {
   "codemirror_mode": {
    "name": "ipython",
    "version": 3
   },
   "file_extension": ".py",
   "mimetype": "text/x-python",
   "name": "python",
   "nbconvert_exporter": "python",
   "pygments_lexer": "ipython3",
   "version": "3.9.12"
  }
 },
 "nbformat": 4,
 "nbformat_minor": 5
}
