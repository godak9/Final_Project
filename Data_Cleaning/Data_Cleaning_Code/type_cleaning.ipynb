{
 "cells": [
  {
   "cell_type": "code",
   "execution_count": 1,
   "id": "59856986",
   "metadata": {},
   "outputs": [],
   "source": [
    "# For output clarity \n",
    "import warnings\n",
    "warnings.filterwarnings('ignore')"
   ]
  },
  {
   "cell_type": "code",
   "execution_count": 2,
   "id": "339a1808",
   "metadata": {},
   "outputs": [],
   "source": [
    "import pandas as pd\n",
    "import numpy as np \n",
    "import re"
   ]
  },
  {
   "cell_type": "code",
   "execution_count": 3,
   "id": "08c311e0",
   "metadata": {},
   "outputs": [
    {
     "data": {
      "text/plain": [
       "Index(['index', 'Case Number', 'Date', 'Year', 'Type', 'Country', 'Area',\n",
       "       'Location', 'Activity', 'Name', 'Unnamed: 9', 'Age', 'Injury',\n",
       "       'Fatal (Y/N)', 'Time', 'Species'],\n",
       "      dtype='object')"
      ]
     },
     "execution_count": 3,
     "metadata": {},
     "output_type": "execute_result"
    }
   ],
   "source": [
    "#Importing clearn sharks data--rows confirmed attack \n",
    "# From kaggle https://www.kaggle.com/datasets/thedevastator/shark-attacks-the-risks-of-coastal-water-activit\n",
    "# FromShark Research Institute's website https://www.sharkattackfile.net/incidentlog.htm\n",
    "file_path = \"shark_bite_confirmed.csv\"\n",
    "confirmed_attack_df = pd.read_csv(file_path)\n",
    "confirmed_attack_df.columns"
   ]
  },
  {
   "cell_type": "code",
   "execution_count": 6,
   "id": "1a15b50d",
   "metadata": {},
   "outputs": [
    {
     "data": {
      "text/plain": [
       "['Unprovoked',\n",
       " 'Provoked',\n",
       " 'Questionable',\n",
       " 'Watercraft',\n",
       " 'Unconfirmed',\n",
       " 'Unverified',\n",
       " 'Invalid',\n",
       " 'Under investigation',\n",
       " 'Boating',\n",
       " 'Sea Disaster',\n",
       " nan,\n",
       " 'Boat',\n",
       " 'Boatomg',\n",
       " 'Unknown']"
      ]
     },
     "execution_count": 6,
     "metadata": {},
     "output_type": "execute_result"
    }
   ],
   "source": [
    "columns = [\"Case Number\", \"Type\"]\n",
    "type_df = confirmed_attack_df.loc[:, columns]\n",
    "list(type_df.Type.unique())"
   ]
  },
  {
   "cell_type": "code",
   "execution_count": 10,
   "id": "782c0216",
   "metadata": {},
   "outputs": [
    {
     "data": {
      "text/plain": [
       "['Unprovoked', 'Provoked', 'Unknown', 'Watercraft', 'Boating', 'Sea Disaster']"
      ]
     },
     "execution_count": 10,
     "metadata": {},
     "output_type": "execute_result"
    }
   ],
   "source": [
    "type_df['Type'].fillna('Unknown', inplace = True)\n",
    "list(type_df.Type.unique())\n",
    "type_df.loc[type_df['Type'] == 'Questionable', 'Type'] = 'Unknown'\n",
    "type_df.loc[type_df['Type'] == 'Unconfirmed', 'Type'] = 'Unknown'\n",
    "type_df.loc[type_df['Type'] == 'Unverified', 'Type'] = 'Unknown'\n",
    "type_df.loc[type_df['Type'] == 'Invalid', 'Type'] = 'Unknown'\n",
    "type_df.loc[type_df['Type'] == 'Under investigation', 'Type'] = 'Unknown'\n",
    "type_df.loc[type_df['Type'] == 'Boat', 'Type'] = 'Boating'\n",
    "type_df.loc[type_df['Type'] == 'Boatomg', 'Type'] = 'Unknown'\n",
    "list(type_df.Type.unique())"
   ]
  },
  {
   "cell_type": "code",
   "execution_count": 11,
   "id": "f31901b2",
   "metadata": {},
   "outputs": [],
   "source": [
    "type_df.to_csv(\"type.csv\", index=False)"
   ]
  },
  {
   "cell_type": "code",
   "execution_count": null,
   "id": "745f1543",
   "metadata": {},
   "outputs": [],
   "source": []
  }
 ],
 "metadata": {
  "kernelspec": {
   "display_name": "mlenv",
   "language": "python",
   "name": "mlenv"
  },
  "language_info": {
   "codemirror_mode": {
    "name": "ipython",
    "version": 3
   },
   "file_extension": ".py",
   "mimetype": "text/x-python",
   "name": "python",
   "nbconvert_exporter": "python",
   "pygments_lexer": "ipython3",
   "version": "3.7.13"
  }
 },
 "nbformat": 4,
 "nbformat_minor": 5
}
